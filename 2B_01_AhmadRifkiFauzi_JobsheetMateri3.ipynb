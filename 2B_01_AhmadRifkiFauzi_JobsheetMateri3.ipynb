{
  "nbformat": 4,
  "nbformat_minor": 0,
  "metadata": {
    "colab": {
      "provenance": [],
      "authorship_tag": "ABX9TyNq8zoauctyZcFvsi1tVPyc",
      "include_colab_link": true
    },
    "kernelspec": {
      "name": "python3",
      "display_name": "Python 3"
    },
    "language_info": {
      "name": "python"
    }
  },
  "cells": [
    {
      "cell_type": "markdown",
      "metadata": {
        "id": "view-in-github",
        "colab_type": "text"
      },
      "source": [
        "<a href=\"https://colab.research.google.com/github/ifky06/KecerdasanBuatan_JobsheetMateri3/blob/main/2B_01_AhmadRifkiFauzi_JobsheetMateri3.ipynb\" target=\"_parent\"><img src=\"https://colab.research.google.com/assets/colab-badge.svg\" alt=\"Open In Colab\"/></a>"
      ]
    },
    {
      "cell_type": "markdown",
      "source": [
        "**Praktikum 1**"
      ],
      "metadata": {
        "id": "kxDb4vL8TF3G"
      }
    },
    {
      "cell_type": "code",
      "execution_count": 3,
      "metadata": {
        "colab": {
          "base_uri": "https://localhost:8080/"
        },
        "id": "ALRf0-ra3ZKb",
        "outputId": "688dbe5f-9649-4e6e-dfc2-09465abc9053"
      },
      "outputs": [
        {
          "output_type": "stream",
          "name": "stdout",
          "text": [
            "Hasil penelusuran graf menggunakan BFS:\n",
            "A B C D E F H G "
          ]
        }
      ],
      "source": [
        "graph={\n",
        "    'A':['B','C'],\n",
        "    'B':['D','E'],\n",
        "    'C':['F'],\n",
        "    'D':[],\n",
        "    'E':['F'],\n",
        "    'F':['H'],\n",
        "    'G':['H'],\n",
        "    'H':['G'],\n",
        "}\n",
        "\n",
        "visited=[]\n",
        "queue=[]\n",
        "\n",
        "def bfs(visited,graph,node):\n",
        "  visited.append(node)\n",
        "  queue.append(node)\n",
        "\n",
        "  while queue:\n",
        "    s=queue.pop(0)\n",
        "    print (s,end=\" \")\n",
        "\n",
        "    for neighbour in graph[s]:\n",
        "      if neighbour not in visited:\n",
        "        visited.append(neighbour)\n",
        "        queue.append(neighbour)\n",
        "\n",
        "print(\"Hasil penelusuran graf menggunakan BFS:\")\n",
        "bfs(visited, graph,'A')"
      ]
    },
    {
      "cell_type": "markdown",
      "source": [
        "Jawaban Pertanyaan 1.3.3\n",
        "1. Jelaskan detail dari Langkah ketiga pada percobaan 1\n",
        "- Jawab: Dari node A akan dicek node apa saja yang terhubung dengan node A, yaitu note B dan C. setelah itu dicek note B ada D, E. Lalu dari D tidak ada note, lalu dari E ada F. dari F ada H. da  dari H ada G. \n",
        "2. Bagaimana hasil penelusuran graf diatas bila node E terhubung dengan node F dan G\n",
        "(neighbour dari E adalah F dan G)? Mengapa?\n",
        "- Jawab: \n",
        "3. Apakah kode program dari praktikum sesuai dengan graf yang ada pada langkah 1?\n",
        "- Jawab: Belum sesuai, karena graf merupakan undirected graf jjadi kesalahan pada kode program ada pada pembuatan graf menggunakan adjacency list\n"
      ],
      "metadata": {
        "id": "uCY9gsShCtJL"
      }
    },
    {
      "cell_type": "code",
      "source": [
        "#jawaban no 2\n",
        "graph={\n",
        "    'A':['B','C'],\n",
        "    'B':['D','E'],\n",
        "    'C':['F'],\n",
        "    'D':[],\n",
        "    'E':['F','G'],\n",
        "    'F':['H'],\n",
        "    'G':['H'],\n",
        "    'H':['G'],\n",
        "}\n",
        "\n",
        "visited=[]\n",
        "queue=[]\n",
        "\n",
        "def bfs(visited,graph,node):\n",
        "  visited.append(node)\n",
        "  queue.append(node)\n",
        "\n",
        "  while queue:\n",
        "    s=queue.pop(0)\n",
        "    print (s,end=\" \")\n",
        "\n",
        "    for neighbour in graph[s]:\n",
        "      if neighbour not in visited:\n",
        "        visited.append(neighbour)\n",
        "        queue.append(neighbour)\n",
        "\n",
        "print(\"Hasil penelusuran graf menggunakan BFS:\")\n",
        "bfs(visited, graph,'A')"
      ],
      "metadata": {
        "colab": {
          "base_uri": "https://localhost:8080/"
        },
        "id": "uKI8EjStVA-1",
        "outputId": "bfa30b8a-f4d0-4ca9-9171-f8a5da925c63"
      },
      "execution_count": 13,
      "outputs": [
        {
          "output_type": "stream",
          "name": "stdout",
          "text": [
            "Hasil penelusuran graf menggunakan BFS:\n",
            "A B C D E F G H "
          ]
        }
      ]
    },
    {
      "cell_type": "code",
      "source": [
        "#graf yang benar untuk pertanyaan no 3\n",
        "graph={\n",
        "    'A':['B','C'],\n",
        "    'B':['D','E'],\n",
        "    'C':['A','F'],\n",
        "    'D':['B'],\n",
        "    'E':['B','F'],\n",
        "    'F':['C','E','H'],\n",
        "    'G':['H'],\n",
        "    'H':['F','G'],\n",
        "}"
      ],
      "metadata": {
        "id": "z03J2VkoV5kd"
      },
      "execution_count": null,
      "outputs": []
    },
    {
      "cell_type": "markdown",
      "source": [
        "**Praktikum 2**"
      ],
      "metadata": {
        "id": "yJqZGopeTVSj"
      }
    },
    {
      "cell_type": "code",
      "source": [
        "graph={\n",
        "    'A':['B','C'],\n",
        "    'B':['D','E'],\n",
        "    'C':['F'],\n",
        "    'D':[],\n",
        "    'E':['F'],\n",
        "    'F':['H'],\n",
        "    'G':['H'],\n",
        "    'H':['G'],\n",
        "}\n",
        "\n",
        "visited=set()\n",
        "\n",
        "def dfs(visited,graph,node):\n",
        "  if node not in visited:\n",
        "    print (node)\n",
        "    visited.add(node)\n",
        "    for neighbour in graph[node]:\n",
        "      dfs(visited,graph,neighbour)\n",
        "\n",
        "print(\"Hasil penelusuran graf menggunakan DFS:\")\n",
        "dfs(visited,graph,'A')"
      ],
      "metadata": {
        "colab": {
          "base_uri": "https://localhost:8080/"
        },
        "id": "L54qKx2cF4O4",
        "outputId": "195d9b85-0466-4a47-e749-9a9a68187a36"
      },
      "execution_count": 4,
      "outputs": [
        {
          "output_type": "stream",
          "name": "stdout",
          "text": [
            "Hasil penelusuran graf menggunakan DFS:\n",
            "A\n",
            "B\n",
            "D\n",
            "E\n",
            "F\n",
            "H\n",
            "G\n",
            "C\n"
          ]
        }
      ]
    },
    {
      "cell_type": "markdown",
      "source": [
        "Jawaban Pertanyaan 1.3.3\n",
        "1. Jelaskan detail dari Langkah ketiga pada percobaan 2\n",
        "- Jawab: pertama node dicek apakah sudah ada dalam visited atau belum, jika belum ada maka akan diprint dan ditambahkan kedalam visited. setelah itu setiap note yang ada pada node tersebut\n",
        "2. Apakah terdapat perbedaan hasil penelusuran bila node B terhubung dengan node C? Mengapa?\n",
        "- Jawab: \n",
        "3. Apakah kode program dari praktikum sesuai dengan graf yang ada pada langkah 1?\n",
        "- Jawab: Belum sesuai, karena graf merupakan undirected graf jjadi kesalahan pada kode program ada pada pembuatan graf menggunakan adjacency list"
      ],
      "metadata": {
        "id": "_ikzTAnmITso"
      }
    },
    {
      "cell_type": "code",
      "source": [
        "#jawaban no 2\n",
        "graph={\n",
        "    'A':['B','C'],\n",
        "    'B':['C','D','E'],\n",
        "    'C':['F'],\n",
        "    'D':[],\n",
        "    'E':['F'],\n",
        "    'F':['H'],\n",
        "    'G':['H'],\n",
        "    'H':['G'],\n",
        "}\n",
        "\n",
        "visited=set()\n",
        "\n",
        "def dfs(visited,graph,node):\n",
        "  if node not in visited:\n",
        "    print (node)\n",
        "    visited.add(node)\n",
        "    for neighbour in graph[node]:\n",
        "      dfs(visited,graph,neighbour)\n",
        "\n",
        "print(\"Hasil penelusuran graf menggunakan DFS:\")\n",
        "dfs(visited,graph,'A')"
      ],
      "metadata": {
        "colab": {
          "base_uri": "https://localhost:8080/"
        },
        "id": "kWbxSq8NXJ4a",
        "outputId": "792af874-4cf0-4cc1-b55b-e18902b28e0f"
      },
      "execution_count": 14,
      "outputs": [
        {
          "output_type": "stream",
          "name": "stdout",
          "text": [
            "Hasil penelusuran graf menggunakan DFS:\n",
            "A\n",
            "B\n",
            "C\n",
            "F\n",
            "H\n",
            "G\n",
            "D\n",
            "E\n"
          ]
        }
      ]
    },
    {
      "cell_type": "code",
      "source": [
        "#graf yang benar untuk pertanyaan no 3\n",
        "graph={\n",
        "    'A':['B','C'],\n",
        "    'B':['D','E'],\n",
        "    'C':['A','F'],\n",
        "    'D':['B'],\n",
        "    'E':['B','F'],\n",
        "    'F':['C','E','H'],\n",
        "    'G':['H'],\n",
        "    'H':['F','G'],\n",
        "}"
      ],
      "metadata": {
        "id": "UKJj3JWKXVDx"
      },
      "execution_count": null,
      "outputs": []
    },
    {
      "cell_type": "markdown",
      "source": [
        "**Latihan Praktikum 1.5**\n",
        "1. soal 1"
      ],
      "metadata": {
        "id": "tMxfS29HNciw"
      }
    },
    {
      "cell_type": "code",
      "source": [
        "# Latihan praktikum 1.5\n",
        "\n",
        "graph={\n",
        "    'a':['b','e','f'],\n",
        "    'b':['a','f','g'],\n",
        "    'c':['d','g'],\n",
        "    'd':['c','h'],\n",
        "    'e':['a','f'],\n",
        "    'f':['a','b','e'],\n",
        "    'g':['b','c','h'],\n",
        "    'h':['d','g'],\n",
        "}\n",
        "\n",
        "# a. BFS\n",
        "\n",
        "visited=[]\n",
        "queue=[]\n",
        "\n",
        "def bfs(visited,graph,node):\n",
        "  visited.append(node)\n",
        "  queue.append(node)\n",
        "\n",
        "  while queue:\n",
        "    s=queue.pop(0)\n",
        "    print (s,end=\" \")\n",
        "\n",
        "    for neighbour in graph[s]:\n",
        "      if neighbour not in visited:\n",
        "        visited.append(neighbour)\n",
        "        queue.append(neighbour)\n",
        "\n",
        "print(\"Hasil penelusuran graf menggunakan BFS:\")\n",
        "bfs(visited, graph,'a')\n",
        "\n",
        "# b. DFS\n",
        "\n",
        "visited=set()\n",
        "\n",
        "def dfs(visited,graph,node):\n",
        "  if node not in visited:\n",
        "    print (node)\n",
        "    visited.add(node)\n",
        "    for neighbour in graph[node]:\n",
        "      dfs(visited,graph,neighbour)\n",
        "\n",
        "print(\"\\nHasil penelusuran graf menggunakan DFS:\")\n",
        "dfs(visited,graph,'a')"
      ],
      "metadata": {
        "colab": {
          "base_uri": "https://localhost:8080/"
        },
        "id": "xKXeBBqiI2P3",
        "outputId": "7892065a-fee6-4717-8557-65264bafad65"
      },
      "execution_count": 10,
      "outputs": [
        {
          "output_type": "stream",
          "name": "stdout",
          "text": [
            "Hasil penelusuran graf menggunakan BFS:\n",
            "a b e f g c h d \n",
            "Hasil penelusuran graf menggunakan DFS:\n",
            "a\n",
            "b\n",
            "f\n",
            "e\n",
            "g\n",
            "c\n",
            "d\n",
            "h\n"
          ]
        }
      ]
    },
    {
      "cell_type": "markdown",
      "source": [
        "2. mencari huruf ‘d’ "
      ],
      "metadata": {
        "id": "hRCpjIxrQzcP"
      }
    },
    {
      "cell_type": "code",
      "source": [
        "graph={\n",
        "    'a':['b'],\n",
        "    'b':['a','f','g'],\n",
        "    'c':['d','g'],\n",
        "    'd':['c','h'],\n",
        "    'e':['f'],\n",
        "    'f':['b','e'],\n",
        "    'g':['b','c'],\n",
        "    'h':['d'],\n",
        "}\n",
        "\n",
        "# a. BFS\n",
        "\n",
        "visited=[]\n",
        "queue=[]\n",
        "\n",
        "def bfs(visited,graph,node,target):\n",
        "  visited.append(node)\n",
        "  queue.append(node)\n",
        "\n",
        "  while queue:\n",
        "    s=queue.pop(0)\n",
        "    print (s,end=\" \")\n",
        "    if s==target:\n",
        "      return\n",
        "\n",
        "    for neighbour in graph[s]:\n",
        "      if neighbour not in visited:\n",
        "        visited.append(neighbour)\n",
        "        queue.append(neighbour)\n",
        "\n",
        "print(\"Hasil penelusuran graf menggunakan BFS:\")\n",
        "bfs(visited, graph,'a','d')\n",
        "\n",
        "# b. DFS\n",
        "\n",
        "visited=set()\n",
        "\n",
        "def dfs(visited,graph,node,target):\n",
        "  if node not in visited:\n",
        "    print (node)\n",
        "    visited.add(node)\n",
        "    if node==target:\n",
        "      return\n",
        "    for neighbour in graph[node]:\n",
        "      dfs(visited,graph,neighbour,target)\n",
        "\n",
        "print(\"\\nHasil penelusuran graf menggunakan DFS:\")\n",
        "dfs(visited,graph,'a','d')"
      ],
      "metadata": {
        "colab": {
          "base_uri": "https://localhost:8080/"
        },
        "id": "z_lSgaMCNac1",
        "outputId": "1b5ce624-4a8f-438f-93f7-019f1bcf0c41"
      },
      "execution_count": 12,
      "outputs": [
        {
          "output_type": "stream",
          "name": "stdout",
          "text": [
            "Hasil penelusuran graf menggunakan BFS:\n",
            "a b f g e c d \n",
            "Hasil penelusuran graf menggunakan DFS:\n",
            "a\n",
            "b\n",
            "f\n",
            "e\n",
            "g\n",
            "c\n",
            "d\n"
          ]
        }
      ]
    },
    {
      "cell_type": "markdown",
      "source": [
        "keduanya membutuhkan waktu yang sama hanya urutannya yang berbeda"
      ],
      "metadata": {
        "id": "B2doDPKsSkZl"
      }
    }
  ]
}