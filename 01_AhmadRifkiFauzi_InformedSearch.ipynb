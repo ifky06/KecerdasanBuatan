{
  "nbformat": 4,
  "nbformat_minor": 0,
  "metadata": {
    "colab": {
      "provenance": [],
      "authorship_tag": "ABX9TyMLb1N97i+411/cHmS3XQDM",
      "include_colab_link": true
    },
    "kernelspec": {
      "name": "python3",
      "display_name": "Python 3"
    },
    "language_info": {
      "name": "python"
    }
  },
  "cells": [
    {
      "cell_type": "markdown",
      "metadata": {
        "id": "view-in-github",
        "colab_type": "text"
      },
      "source": [
        "<a href=\"https://colab.research.google.com/github/ifky06/KecerdasanBuatan/blob/main/01_AhmadRifkiFauzi_InformedSearch.ipynb\" target=\"_parent\"><img src=\"https://colab.research.google.com/assets/colab-badge.svg\" alt=\"Open In Colab\"/></a>"
      ]
    },
    {
      "cell_type": "markdown",
      "source": [
        "Nama   : Ahmad Rifki Fauzi\n",
        "\n",
        "No     : 01\n",
        "\n",
        "Kelas  : TI-2B"
      ],
      "metadata": {
        "id": "_0peyGjNn-BB"
      }
    },
    {
      "cell_type": "markdown",
      "source": [
        "# Percobaan 1"
      ],
      "metadata": {
        "id": "Ht9aUSesv-e4"
      }
    },
    {
      "cell_type": "code",
      "execution_count": null,
      "metadata": {
        "colab": {
          "base_uri": "https://localhost:8080/"
        },
        "id": "pYwfc-L5vZcj",
        "outputId": "71050eee-baf2-4b8c-f953-f805b16d70fb"
      },
      "outputs": [
        {
          "output_type": "stream",
          "name": "stdout",
          "text": [
            "Path found: ['A', 'B', 'D']\n"
          ]
        },
        {
          "output_type": "execute_result",
          "data": {
            "text/plain": [
              "['A', 'B', 'D']"
            ]
          },
          "metadata": {},
          "execution_count": 15
        }
      ],
      "source": [
        "class Graph:\n",
        "\n",
        "  def __init__(self, adjacency_list):\n",
        "      self.adjacency_list = adjacency_list\n",
        "\n",
        "  def get_neighbors(self, v):\n",
        "      return self.adjacency_list[v]\n",
        "\n",
        "  def h(self, n):\n",
        "      H = {\n",
        "        'A': 1,\n",
        "        'B': 1,\n",
        "        'C': 1,\n",
        "        'D': 1\n",
        "      }\n",
        "\n",
        "      return H[n]\n",
        "\n",
        "  def a_star_algorithm(self, start_node, stop_node):\n",
        "\n",
        "      open_list = set([start_node])\n",
        "      closed_list = set([])\n",
        "\n",
        "      g = {}\n",
        "\n",
        "      g[start_node] = 0\n",
        "\n",
        "      parents = {}\n",
        "      parents[start_node] = start_node\n",
        "\n",
        "      while len(open_list) > 0:\n",
        "          n = None\n",
        "\n",
        "          for v in open_list:\n",
        "              if n == None or g[v] + self.h(v) < g[n] + self.h(n):\n",
        "                  n = v;\n",
        "\n",
        "          if n == None:\n",
        "              print('Path does not exist!')\n",
        "              return None\n",
        "\n",
        "          if n == stop_node:\n",
        "              reconst_path = []\n",
        "\n",
        "              while parents[n] != n:\n",
        "                  reconst_path.append(n)\n",
        "                  n = parents[n]\n",
        "\n",
        "              reconst_path.append(start_node)\n",
        "\n",
        "              reconst_path.reverse()\n",
        "\n",
        "              print('Path found: {}'.format(reconst_path))\n",
        "              return reconst_path\n",
        "\n",
        "          for (m, weight) in self.get_neighbors(n):\n",
        "\n",
        "              if m not in open_list and m not in closed_list:\n",
        "                  open_list.add(m)\n",
        "                  parents[m] = n\n",
        "                  g[m] = g[n] + weight\n",
        "\n",
        "              else:\n",
        "                if g[m] > g[n] + weight:\n",
        "                    g[m] = g[n] + weight\n",
        "                    parents[m] = n\n",
        "\n",
        "                    if m in closed_list:\n",
        "                        closed_list.remove(m)\n",
        "                        open_list.add(m)\n",
        "\n",
        "          open_list.remove(n)\n",
        "          closed_list.add(n)\n",
        "\n",
        "      print('Path does not exist!')\n",
        "      return None\n",
        "\n",
        "adjacency_list = {\n",
        "    'A': [('B', 1), ('C', 3), ('D', 7)],\n",
        "    'B': [('D', 5)],\n",
        "    'C':  [('D', 12)]\n",
        "}\n",
        "graph1 = Graph(adjacency_list)\n",
        "graph1.a_star_algorithm('A', 'D')"
      ]
    },
    {
      "cell_type": "markdown",
      "source": [
        "### Pertanyaan\n",
        "1.   Amati output pada percobaan 1, dan jelaskan bagaimana hasilnya?\n",
        "2.   Jelaskan tahapan-tahapan pada fungsi algoritma A*di percobaan 1 langkah ke-2 yang sudah dijelaskan di atas\n",
        "3. Apakah tujuan pembuatan fungsi heuristik?\n",
        "4. Bagaimanakah kompleksitas waktu pada algoritma A*? Jelaskan dan beri contoh!\n",
        "5. Jelaskan maksud dari code program di bawah ini:\n",
        "\n",
        "### Jawaban\n",
        "1. Hasil yang keluar adalah path terpendek menuju ke D, yaitu path A,B,D\n",
        "2. pada class graph disediakan list nilai H yang memiliki nilai 1 untuk setiap node, dan saat fungsi a_star_algorithm dipanggil akan dilakukan pengecekan secara berulang dimulai dari root node. Lalu node yang sementara dianggap memiliki jarak terpendek ke tujuan akan disimpan ke 'n' yang pada akhirnya kumpulan 'n' tersebut akan dimasukan ke 'reconst_path' yang merupakan kumpulan node/ path menuju tujuan yang nantinya akan di return sebagai hasil dari fungsi a_star_algorithm.\n",
        "3. Fungsi heuristik tersebut digunakan untuk mendapatkan jarak dari tiap tiap node (diukur secara garis lurus) ke node tujuan,hal tersebut dibutuhkan dalam rumus algoritma a star.\n",
        "4. \n",
        "5. Variable adjacency_list tersebut adalah sebuah list key value yang menyimpan dan merepresentasikan graph beserta node node yang terhubung.\n",
        "\n",
        "\n"
      ],
      "metadata": {
        "id": "6r4mED0XZ_6N"
      }
    },
    {
      "cell_type": "markdown",
      "source": [
        "## 2.1.3. Tugas"
      ],
      "metadata": {
        "id": "Z39vzlJnc4Sr"
      }
    },
    {
      "cell_type": "markdown",
      "source": [
        "### Soal 1"
      ],
      "metadata": {
        "id": "yA0Dbaz5hkKU"
      }
    },
    {
      "cell_type": "code",
      "source": [
        "# Tugas 2.1.3\n",
        "DAG = {\n",
        "    'A' : {'C' : 4, 'G' : 9},\n",
        "    'G' : {'E' : 6},\n",
        "    'C' : {'D' : 6, 'H' : 12},\n",
        "    'D' : {'E' : 7},\n",
        "    'H' : {'F' : 15},\n",
        "    'E' : {'F' : 8},\n",
        "    'F' : {'B' : 5}\n",
        "}\n",
        "def shortest_path(graph, source, dest):\n",
        "  result =[]\n",
        "  result.append(source)\n",
        "  while dest not in result:\n",
        "    current_node = result[-1]\n",
        "    local_max = min(graph[current_node].values())\n",
        "    for node, weight in graph[current_node].items():\n",
        "      if weight == local_max:\n",
        "        result.append(node)\n",
        "  return result\n",
        "print(\"Hasil pencarian algoritma Greedy:\")\n",
        "shortest_path(DAG, 'A', 'F')"
      ],
      "metadata": {
        "id": "w_w4BlmK6wrf",
        "outputId": "0d783677-aea7-4d23-e702-34dfb920b54e",
        "colab": {
          "base_uri": "https://localhost:8080/"
        }
      },
      "execution_count": 1,
      "outputs": [
        {
          "output_type": "stream",
          "name": "stdout",
          "text": [
            "Hasil pencarian algoritma A*:\n"
          ]
        },
        {
          "output_type": "execute_result",
          "data": {
            "text/plain": [
              "['A', 'C', 'D', 'E', 'F']"
            ]
          },
          "metadata": {},
          "execution_count": 1
        }
      ]
    },
    {
      "cell_type": "markdown",
      "source": [
        "### Soal 2\n",
        "Perbedaan dari algoritma A* dan Greedy adalah pada kompleksitas dan waktunya jika ingin menemukan hasil yang diinginkan. Astar memiliki iterasi yang kompleks sehingga membutuhkan waktu sedikit lebih banyak, sedangkan Greedy memiliki iterais yang tidak terlalu kompleks dan waktu yang dibutuhkan tidak terlalu lama dan hasilnya sesuai.\n",
        "\n",
        "### Soal 3\n",
        "Astar tidak cocok digunakan untuk graph yang tidak berbobot karena astar membutuhkan hal itu untuk menentukan mana yang lebih dekat\n",
        "\n",
        "### Soal 4\n",
        "*  Digunakan untuk game puzzle\n",
        "*  Mencari nilai: hal yang dilakukan pertama adalah melakukan pencarian nilai heuristik terbesar antara kotak yang kosong dengan kotak puzzle di sebelahnya. Jika menemukan nilai heuristik yang paling besar maka puzzle tersebut yang harus digeser. Langkah selanjutnya hanyalah mengikuti algoritma tadi secara berulang hingga puzzle selesai.\n"
      ],
      "metadata": {
        "id": "5sADiiyIhsXl"
      }
    },
    {
      "cell_type": "markdown",
      "source": [
        "# Percobaan 2"
      ],
      "metadata": {
        "id": "RJCUJ11x2h42"
      }
    },
    {
      "cell_type": "code",
      "source": [
        "from unittest import result\n",
        "\n",
        "\n",
        "DAG = {\n",
        "  'A': {'C': 4, 'G': 9},\n",
        "  'G': {'E', 6},\n",
        "  'C': {'D': 6, 'H': 12},\n",
        "  'D': {'E': 7},\n",
        "  'H': {'F': 15},\n",
        "  'E': {'F': 8},\n",
        "  'F': {'B': 5}\n",
        "}\n",
        "\n",
        "def shortest_path(graph, source, dest):\n",
        "  result = []\n",
        "  result.append(source)\n",
        "\n",
        "  while dest not in result:\n",
        "    current_node = result[-1]\n",
        "    local_max = min(graph[current_node].values())\n",
        "    for node, weight in graph[current_node].items():\n",
        "      if weight == local_max:\n",
        "        result.append(node)\n",
        "  return result\n",
        "  \n",
        "print(\"Hasil algoritma greedy :\")\n",
        "print(shortest_path(DAG, 'A', 'F'))"
      ],
      "metadata": {
        "colab": {
          "base_uri": "https://localhost:8080/"
        },
        "id": "7qDFWX_X1azG",
        "outputId": "8e08854f-210d-440d-e6a0-5a6d334b296f"
      },
      "execution_count": null,
      "outputs": [
        {
          "output_type": "stream",
          "name": "stdout",
          "text": [
            "Hasil algoritma greedy :\n",
            "['A', 'C', 'D', 'E', 'F']\n"
          ]
        }
      ]
    },
    {
      "cell_type": "markdown",
      "source": [
        "## Pertanyaan\n",
        "1. Amati output pada percobaan 1, dan Jelaskan bagaimana hasilnya? Jangan lupa tambahkan line-code untuk menampilkan jalur pencarian dengan A sebagai titik awal dan F sebagai tujuan!\n",
        "2. Jelaskan tahapan-tahapan pada fungsi algoritma Greedy di percobaan 1 langkah ke 2 yang sudah dijelaskan di atas\n",
        "3. Bagaimanakah kompleksitas waktu pada algoritma Greedy? Jelaskan dan beri contoh!\n",
        "4. Tampilkan urutan simpul dari lintasan yang dipilih oleh algoritma greedy search dan hitung path cost-nya.\n"
      ],
      "metadata": {
        "id": "TGf_ILjqlOy2"
      }
    },
    {
      "cell_type": "markdown",
      "source": [
        "## Jawaban\n",
        "1. Output dari program adalah A sebagai node awal dan F sebagai node tujuan melewati path A,C,D,E,F\n",
        "2. Digunakan untuk menelusuri masalah. Dengan melakukan pemilihan local maximum dari pilihan yang ada di setiap langkahnya. Juga untuk mengisikan nilai lokal maksimum ke solusi keseluruhan. Dan didapatkan akhir sebuah solusi.\n",
        "3. Kompleksitas algoritma Greedy adalah O(nx2^n) pada kebanyakan kasus, algoritma ini tidak menghasilkan solusi optimal. Algoritma ini memberikan solusi yang cepat\n",
        "4. A, C, D, E, F = 4 + 6 + 7 + 8 = 25"
      ],
      "metadata": {
        "id": "JT65CEKfmr49"
      }
    },
    {
      "cell_type": "markdown",
      "source": [
        "# Percobaan 3"
      ],
      "metadata": {
        "id": "9JOorU642zyV"
      }
    },
    {
      "cell_type": "code",
      "source": [
        "from operator import itemgetter, attrgetter\n",
        "\n",
        "w = [3,4,1,7,6,8,9]\n",
        "p = [4,5,2,5,5,8,11]\n",
        "item = [[3,4],[4,5],[1,2],[7,5],[6,5],[8,8],[9,11]]\n",
        "\n",
        "i = 0\n",
        "while i < len(item):\n",
        "  item[i].append(item[i][0]/item[i][1])\n",
        "  i += 1\n",
        "\n",
        "data = sorted(item, key=itemgetter(2), reverse=True)\n",
        "\n",
        "def knapsack(data, cap, flag):\n",
        "  total = 0\n",
        "  tres = \"\"\n",
        "  if flag == 0:\n",
        "    dataS = sorted(data, key=itemgetter(flag), reverse=True)\n",
        "    tres = \"bobot prioritas\"\n",
        "  elif flag == 1:\n",
        "    dataS = sorted(data, key=itemgetter(flag), reverse=True)\n",
        "    tres = \"keuntungan prioritas\"\n",
        "  elif flag == 2:\n",
        "    dataS = sorted(data, key=itemgetter(flag), reverse=True)\n",
        "    tres = \"p prioritas\"\n",
        "  else:\n",
        "    return \"Error\"\n",
        "\n",
        "  j = 0\n",
        "  hasil = 0\n",
        "  cek = 0\n",
        "  weight = 0\n",
        "  while j < len(dataS):\n",
        "    if (cek + dataS[j][0] <= cap):\n",
        "      hasil = hasil + dataS[j][1]\n",
        "      weight = weight + dataS[j][0]\n",
        "      print(dataS[j][0])\n",
        "    cek = weight\n",
        "    j += 1\n",
        "  return(\"Optimal dalam \" + str(tres) + str(hasil))\n",
        "\n",
        "print(knapsack(data, 20, 0))\n",
        "print(knapsack(data, 20, 1))\n",
        "print(knapsack(data, 20, 2))"
      ],
      "metadata": {
        "colab": {
          "base_uri": "https://localhost:8080/"
        },
        "id": "t1xPgRk3226U",
        "outputId": "951c1477-9e6d-4eb1-9df7-6cf30f95f6c2"
      },
      "execution_count": null,
      "outputs": [
        {
          "output_type": "stream",
          "name": "stdout",
          "text": [
            "9\n",
            "8\n",
            "3\n",
            "Optimal dalam bobot prioritas23\n",
            "9\n",
            "8\n",
            "3\n",
            "Optimal dalam keuntungan prioritas23\n",
            "7\n",
            "6\n",
            "4\n",
            "3\n",
            "Optimal dalam p prioritas19\n"
          ]
        }
      ]
    },
    {
      "cell_type": "markdown",
      "source": [
        "## Pertanyaan\n",
        "1. Amati output pada percobaan 2, dan Jelaskan bagaimana hasilnya?\n",
        "2. Jelaskan tahapan-tahapan pada fungsi algoritma Greedy di percobaan 2 langkah ke 2 yang sudah dijelaskan di atas!"
      ],
      "metadata": {
        "id": "TwtqaGD8muyl"
      }
    },
    {
      "cell_type": "markdown",
      "source": [
        "## Jawaban\n",
        "1. Output yang dihasilkan adalah knapsack dalam kondisi flag 0 hingga 2 menampilkan return pengoptimalan\n",
        "2. \n",
        "* Perulangan dilakukan pada item untuk menentukan hasil\n",
        "* Fungsi knapsack, jika flagnya = 0 maka akan dilakukan penyortiran flag = 0\n",
        "* Fungsi knapsack, jika flagnya = 1 maka akan dilakukan penyortiran flag = 1\n",
        "* Fungsi knapsack, jika flagnya = 2 maka akan dilakukan penyortiran flag = 2\n",
        "* Kemudian melakukan perulangan untuk menentukan hasil dan bobot\n",
        "* Kemudian nilai hasil dikembalikan\n"
      ],
      "metadata": {
        "id": "KeVRKoZGnKpW"
      }
    },
    {
      "cell_type": "markdown",
      "source": [
        "Github : "
      ],
      "metadata": {
        "id": "JKtw0WJ8opeo"
      }
    }
  ]
}